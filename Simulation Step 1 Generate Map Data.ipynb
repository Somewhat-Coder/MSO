{
 "cells": [
  {
   "cell_type": "code",
   "execution_count": 73,
   "id": "86e32ad9",
   "metadata": {
    "ExecuteTime": {
     "end_time": "2023-07-04T11:55:30.164805Z",
     "start_time": "2023-07-04T11:55:29.174321Z"
    }
   },
   "outputs": [],
   "source": [
    "import matplotlib.pyplot as plt\n",
    "import math\n",
    "import random\n",
    "import numpy as np"
   ]
  },
  {
   "cell_type": "markdown",
   "id": "db1b65cc",
   "metadata": {},
   "source": [
    "**Hints for students:** The utility section contains code you need to use *unchanged* to generate the test data required. You may use this code for your final solution, beware not to overwrite function definitions in this section. Otherwise you can ignore the code in this section."
   ]
  },
  {
   "cell_type": "markdown",
   "id": "6f364ca7",
   "metadata": {
    "heading_collapsed": true
   },
   "source": [
    "# Utilities"
   ]
  },
  {
   "cell_type": "markdown",
   "id": "0d618a29",
   "metadata": {
    "hidden": true
   },
   "source": [
    "**Note:** Section 1.1-1.4 is identical to the MST example (Week 3). 1.5-1.10 are adjustments of the data structures for the current problem. "
   ]
  },
  {
   "cell_type": "markdown",
   "id": "8027b3d2",
   "metadata": {
    "hidden": true
   },
   "source": [
    "## Points and Distances"
   ]
  },
  {
   "cell_type": "markdown",
   "id": "0827b248-8d3c-4b51-ae7b-9bf7270048d8",
   "metadata": {},
   "source": [
    "Euclidean Distance between two points"
   ]
  },
  {
   "cell_type": "code",
   "execution_count": 74,
   "id": "fdee6ad8",
   "metadata": {
    "ExecuteTime": {
     "end_time": "2023-07-04T11:55:30.171917Z",
     "start_time": "2023-07-04T11:55:30.169259Z"
    },
    "hidden": true
   },
   "outputs": [],
   "source": [
    "def dist(p1, p2):\n",
    "    (x1, y1) = p1\n",
    "    (x2, y2) = p2\n",
    "    return int(math.sqrt((x1-x2)**2+(y1-y2)**2))"
   ]
  },
  {
   "cell_type": "markdown",
   "id": "d4773bc7-c22e-45a3-8c2a-ce5c300980d4",
   "metadata": {},
   "source": [
    "The nearest link between two point sets"
   ]
  },
  {
   "cell_type": "code",
   "execution_count": 75,
   "id": "d68f6f97",
   "metadata": {
    "ExecuteTime": {
     "end_time": "2023-07-04T11:55:30.176728Z",
     "start_time": "2023-07-04T11:55:30.173920Z"
    },
    "hidden": true
   },
   "outputs": [],
   "source": [
    "def nearest(X, P):\n",
    "    minD = math.inf\n",
    "    minP = None\n",
    "    for p in P:\n",
    "        for x in X:\n",
    "            d=dist(x, p)\n",
    "            if d<minD:\n",
    "                minX, minP, minD = x, p, d\n",
    "    return minX, minP         "
   ]
  },
  {
   "cell_type": "markdown",
   "id": "3115ac70-a576-4da3-8c38-47cfcf46b466",
   "metadata": {},
   "source": [
    "## Graphs"
   ]
  },
  {
   "cell_type": "code",
   "execution_count": 76,
   "id": "0c8ee7e2",
   "metadata": {
    "ExecuteTime": {
     "end_time": "2023-07-04T11:55:30.181765Z",
     "start_time": "2023-07-04T11:55:30.177866Z"
    },
    "hidden": true
   },
   "outputs": [],
   "source": [
    "def generateRandomGraph(n, r):\n",
    "\n",
    "    def rounding(x):\n",
    "        return int(math.floor(x/10))*10\n",
    "\n",
    "    r = rounding(r)\n",
    "    x0 = r\n",
    "    y0 = r\n",
    "    gridsize = rounding(r / math.sqrt(n) * 1.4)\n",
    "    r = r//gridsize*gridsize\n",
    "    split = 2*r//gridsize+1\n",
    "    X = np.linspace(x0-r, x0+r, split)\n",
    "    Y = np.linspace(y0-r, y0+r, split)\n",
    "    P = [ (int(x), int(y)) for x in X for y in Y if dist((x,y), (x0,y0)) <= r*1.2 ]\n",
    "    P = random.sample(P, k=n)\n",
    "    \n",
    "    E = []\n",
    "    \n",
    "    def addEdge(p, q):\n",
    "        if p in P and q in P and (p, q) not in E and (q, p) not in E:\n",
    "            E.append((p, q))\n",
    "    def addDiagonalEdge(p, q):\n",
    "        (xp, yp) = p\n",
    "        (xq, yq) = q\n",
    "        if p in P and q in P and (xp, yq) not in P and (xq, yp) not in P and (p, q) not in E and (q, p) not in E:\n",
    "            E.append((p, q))\n",
    "            \n",
    "    for (x, y) in P:\n",
    "        addEdge( (x, y), (x, y+gridsize) )\n",
    "        addEdge( (x, y), (x, y-gridsize) )\n",
    "        addEdge( (x, y), (x+gridsize, y) )\n",
    "        addEdge( (x, y), (x-gridsize, y) )\n",
    "        addDiagonalEdge( (x, y), (x+gridsize, y+gridsize) )\n",
    "        addDiagonalEdge( (x, y), (x+gridsize, y-gridsize) )\n",
    "        addDiagonalEdge( (x, y), (x-gridsize, y+gridsize) )\n",
    "        addDiagonalEdge( (x, y), (x-gridsize, y-gridsize) )\n",
    "        \n",
    "    return sorted(P), sorted(E)"
   ]
  },
  {
   "cell_type": "code",
   "execution_count": 77,
   "id": "a906e898-58d1-4e7e-89a6-cb3f05ab7969",
   "metadata": {},
   "outputs": [],
   "source": [
    "def plotGraph(P, E, col='b', grid=False):\n",
    "    fig = plt.gcf()\n",
    "    fig.set_size_inches(6, 6)\n",
    "    if not grid:\n",
    "        plt.axis('off')\n",
    "    plt.plot( [ p[0] for p in P ], [ p[1] for p in P ], col+'o', lw=1, ms=3)\n",
    "    for (p, q) in E:\n",
    "        plt.plot( [ p[0], q[0] ], [ p[1], q[1] ], col+'-o', lw=1, ms=3)\n",
    "    if grid:\n",
    "        plt.grid()"
   ]
  },
  {
   "cell_type": "code",
   "execution_count": 78,
   "id": "c8775ff5-107a-458a-9aa3-7620fa36d8e8",
   "metadata": {},
   "outputs": [
    {
     "data": {
      "image/png": "[encoded data removed]",
      "text/plain": [
       "<Figure size 600x600 with 1 Axes>"
      ]
     },
     "metadata": {},
     "output_type": "display_data"
    }
   ],
   "source": [
    "random.seed(42)\n",
    "V, E = generateRandomGraph(100, 4500)\n",
    "plotGraph(V, E)"
   ]
  },
  {
   "cell_type": "markdown",
   "id": "d39924e8-71a1-4fb0-aaee-10d17bf89adf",
   "metadata": {},
   "source": [
    "The random generation may result in a graph consisting of multiple not connected subgraphs.\n",
    "Split a graph into not connected subgraphs, if any."
   ]
  },
  {
   "cell_type": "code",
   "execution_count": 79,
   "id": "9c572cfc-ecd8-4f5f-a236-b8aab63c3f56",
   "metadata": {},
   "outputs": [],
   "source": [
    "def subgraph(P, E):\n",
    "    P = P.copy()\n",
    "    E = E.copy()\n",
    "    PP = [ P[0] ] \n",
    "    EE = []\n",
    "    P = P[1:]\n",
    "    extended = True\n",
    "    while extended:\n",
    "        extended = False\n",
    "        for (a, b) in E:\n",
    "            if a in PP and b in P:\n",
    "                PP.append(b)\n",
    "                P.remove(b)\n",
    "                EE.append((a, b))\n",
    "                E.remove((a, b))\n",
    "                extended = True\n",
    "                break\n",
    "            if a in P and b in PP:\n",
    "                PP.append(a)\n",
    "                P.remove(a)\n",
    "                EE.append((a, b))\n",
    "                E.remove((a, b))\n",
    "                extended = True\n",
    "                break\n",
    "            if a in PP and b in PP:\n",
    "                EE.append((a, b))\n",
    "                E.remove((a, b))\n",
    "                extended = True\n",
    "                break\n",
    "    return PP, EE, P, E       "
   ]
  },
  {
   "cell_type": "code",
   "execution_count": 80,
   "id": "2ace15f0-b353-431c-b345-b1d53fee92b5",
   "metadata": {},
   "outputs": [],
   "source": [
    "def generateGraph(n, r):\n",
    "    P, E = generateRandomGraph(n, r)\n",
    "    P0, _, P1, _ = subgraph(P, E)\n",
    "    while len(P1)>0:\n",
    "        (p, q) = nearest(P0, P1)\n",
    "        E.append((p, q))\n",
    "        P0, _, P1, _ = subgraph(P, E)\n",
    "    return P, E"
   ]
  },
  {
   "cell_type": "code",
   "execution_count": 81,
   "id": "dc980805-471b-423a-824a-1ee75fcc67ad",
   "metadata": {},
   "outputs": [
    {
     "data": {
      "image/png": "[encoded data removed]",
      "text/plain": [
       "<Figure size 600x600 with 1 Axes>"
      ]
     },
     "metadata": {},
     "output_type": "display_data"
    }
   ],
   "source": [
    "random.seed(42)\n",
    "V, E = generateRandomGraph(100, 4500)\n",
    "plotGraph(V, E)"
   ]
  },
  {
   "cell_type": "code",
   "execution_count": 82,
   "id": "190c8dc0-6260-41b7-9664-b23653c0b0ca",
   "metadata": {},
   "outputs": [
    {
     "data": {
      "image/png": "[encoded data removed]",
      "text/plain": [
       "<Figure size 600x600 with 1 Axes>"
      ]
     },
     "metadata": {},
     "output_type": "display_data"
    }
   ],
   "source": [
    "random.seed(42)\n",
    "V, E = generateGraph(100, 4500)\n",
    "plotGraph(V, E)"
   ]
  },
  {
   "cell_type": "code",
   "execution_count": 83,
   "id": "d29fac1a-40cd-4c47-8e1f-95ab2b6c5a41",
   "metadata": {},
   "outputs": [
    {
     "name": "stdout",
     "output_type": "stream",
     "text": [
      "Graph for seed 7000 has 200 vertices and 241 edges\n"
     ]
    },
    {
     "data": {
      "image/png": "[encoded data removed]",
      "text/plain": [
       "<Figure size 600x600 with 1 Axes>"
      ]
     },
     "metadata": {},
     "output_type": "display_data"
    },
    {
     "name": "stdout",
     "output_type": "stream",
     "text": [
      "Graph for seed 7001 has 200 vertices and 239 edges\n"
     ]
    },
    {
     "data": {
      "image/png": "[encoded data removed]",
      "text/plain": [
       "<Figure size 600x600 with 1 Axes>"
      ]
     },
     "metadata": {},
     "output_type": "display_data"
    },
    {
     "name": "stdout",
     "output_type": "stream",
     "text": [
      "Graph for seed 7002 has 200 vertices and 248 edges\n"
     ]
    },
    {
     "data": {
      "image/png": "[encoded data removed]",
      "text/plain": [
       "<Figure size 600x600 with 1 Axes>"
      ]
     },
     "metadata": {},
     "output_type": "display_data"
    },
    {
     "name": "stdout",
     "output_type": "stream",
     "text": [
      "Graph for seed 7003 has 200 vertices and 242 edges\n"
     ]
    },
    {
     "data": {
      "image/png": "[encoded data removed]",
      "text/plain": [
       "<Figure size 600x600 with 1 Axes>"
      ]
     },
     "metadata": {},
     "output_type": "display_data"
    },
    {
     "name": "stdout",
     "output_type": "stream",
     "text": [
      "Graph for seed 7004 has 200 vertices and 241 edges\n"
     ]
    },
    {
     "data": {
      "image/png": "[encoded data removed]",
      "text/plain": [
       "<Figure size 600x600 with 1 Axes>"
      ]
     },
     "metadata": {},
     "output_type": "display_data"
    }
   ],
   "source": [
    "for i in range(7000, 7005):\n",
    "    random.seed(i)\n",
    "    P, E = generateGraph(200, 4000)\n",
    "    print(\"Graph for seed\", i, \"has\", len(P), \"vertices and\", len(E), \"edges\")\n",
    "    plotGraph(P, E)\n",
    "    plt.show()"
   ]
  },
  {
   "cell_type": "markdown",
   "id": "853eb5e3",
   "metadata": {
    "hidden": true
   },
   "source": [
    "## Lists and Paths"
   ]
  },
  {
   "cell_type": "code",
   "execution_count": 84,
   "id": "ad4896a5",
   "metadata": {
    "ExecuteTime": {
     "end_time": "2023-07-04T11:55:30.278886Z",
     "start_time": "2023-07-04T11:55:30.276462Z"
    },
    "hidden": true
   },
   "outputs": [],
   "source": [
    "def pathLength(P):\n",
    "    return 0 if len(P)<=1 else \\\n",
    "            dist(P[0], P[1])+pathLength(P[1:])"
   ]
  },
  {
   "cell_type": "code",
   "execution_count": 85,
   "id": "77c6090b",
   "metadata": {
    "ExecuteTime": {
     "end_time": "2023-07-04T11:55:30.282666Z",
     "start_time": "2023-07-04T11:55:30.280335Z"
    },
    "hidden": true
   },
   "outputs": [],
   "source": [
    "def reverse(P):\n",
    "    return [ P[-i] for i in range(1,len(P)+1) ]"
   ]
  },
  {
   "cell_type": "code",
   "execution_count": 86,
   "id": "340c2745",
   "metadata": {
    "ExecuteTime": {
     "end_time": "2023-07-04T11:55:30.286330Z",
     "start_time": "2023-07-04T11:55:30.283948Z"
    },
    "hidden": true
   },
   "outputs": [],
   "source": [
    "def index(x, L):\n",
    "    for i in range(len(L)):\n",
    "        if x==L[i]: \n",
    "            return i\n",
    "    return None"
   ]
  },
  {
   "cell_type": "code",
   "execution_count": 87,
   "id": "cad61c30",
   "metadata": {
    "ExecuteTime": {
     "end_time": "2023-07-04T11:55:30.289827Z",
     "start_time": "2023-07-04T11:55:30.287641Z"
    },
    "hidden": true
   },
   "outputs": [],
   "source": [
    "def addWithoutDuplicates(L, X):\n",
    "    for i in range(len(X)):\n",
    "        if X[i] not in L:\n",
    "            L.append(X[i])\n",
    "    return L"
   ]
  },
  {
   "cell_type": "code",
   "execution_count": 88,
   "id": "9288c7e4-558a-4603-9dd5-b848e33e8ba8",
   "metadata": {},
   "outputs": [],
   "source": [
    "def totalLength(edges):\n",
    "    return sum([ dist(A, B) for A,B in edges ])"
   ]
  },
  {
   "cell_type": "markdown",
   "id": "2e7ff6b1",
   "metadata": {
    "hidden": true
   },
   "source": [
    "## Generate Customer Locations"
   ]
  },
  {
   "cell_type": "code",
   "execution_count": 89,
   "id": "058a6093",
   "metadata": {
    "ExecuteTime": {
     "end_time": "2023-07-04T11:55:30.307975Z",
     "start_time": "2023-07-04T11:55:30.304505Z"
    },
    "hidden": true
   },
   "outputs": [],
   "source": [
    "def splitEdgeRandomly(V, E, s):\n",
    "    A, B = s\n",
    "    p = random.uniform(0.3,0.7)\n",
    "    x = int(A[0]+p*(B[0]-A[0]))\n",
    "    y = int(A[1]+p*(B[1]-A[1]))\n",
    "    t = (x,y)\n",
    "    E.remove(s) \n",
    "    E.append((A, t))\n",
    "    E.append((t, B))\n",
    "    V.append(t)\n",
    "    return (V, E), t"
   ]
  },
  {
   "cell_type": "code",
   "execution_count": 90,
   "id": "b2764b70",
   "metadata": {
    "ExecuteTime": {
     "end_time": "2023-07-04T11:55:30.312520Z",
     "start_time": "2023-07-04T11:55:30.309193Z"
    },
    "hidden": true
   },
   "outputs": [],
   "source": [
    "def generateRandomTargets(M, n=5):\n",
    "    V, E = M\n",
    "    V, E = V.copy(), E.copy()\n",
    "    T = []\n",
    "    # we want to ensure that the beginning of the \n",
    "    # sequence of points generated randomly stays\n",
    "    # the same\n",
    "    mindist = 200\n",
    "    while len(T)<n:\n",
    "        s = random.choice(E)\n",
    "        A, B = s\n",
    "        if dist(A,B)>mindist: # avoid targets placed narrowly\n",
    "            (V, E), t = splitEdgeRandomly(V, E, s)\n",
    "            T.append(t)\n",
    "    return sorted(T)"
   ]
  },
  {
   "cell_type": "code",
   "execution_count": 91,
   "id": "62e1f971-04ed-4cb9-b5f5-fd6c8c8e1ba6",
   "metadata": {},
   "outputs": [],
   "source": [
    "def addTargets(M, T):\n",
    "    V, E = M\n",
    "    E = E.copy()\n",
    "    V = V.copy()\n",
    "    for t in T:\n",
    "        minD = math.inf\n",
    "        minE = None\n",
    "        for e in E:\n",
    "            P, Q = e\n",
    "            distT = dist(P, t)+dist(t, Q)-dist(P, Q)\n",
    "            if distT < minD:\n",
    "                minD = distT\n",
    "                minE = e\n",
    "        P, Q = minE\n",
    "        E.remove( (P, Q) )\n",
    "        E.append( (P, t) )\n",
    "        E.append( (t, Q) )\n",
    "        V.append(t)\n",
    "    return V, E"
   ]
  },
  {
   "cell_type": "markdown",
   "id": "88070187-a40e-4f57-a69b-a88408b5593c",
   "metadata": {},
   "source": [
    "## Generate Central Warehouse Location"
   ]
  },
  {
   "cell_type": "code",
   "execution_count": 92,
   "id": "2ac94a04-ecd7-47b7-a4c4-931642e60879",
   "metadata": {},
   "outputs": [],
   "source": [
    "from statistics import median\n",
    "\n",
    "def generateWarehouseLocation(M):\n",
    "    V, _ = M\n",
    "    xc = median([ x for (x, y) in V ])\n",
    "    yc = median([ y for (x, y) in V ])\n",
    "    cloc = (xc, yc)\n",
    "    minloc = V[0]\n",
    "    mindist = dist(minloc, cloc)\n",
    "    for i in range(1, len(V)):\n",
    "        d = dist(V[i], cloc)\n",
    "        if d<mindist:\n",
    "            minloc = V[i]\n",
    "            mindist = dist(V[i], cloc)\n",
    "    return minloc"
   ]
  },
  {
   "cell_type": "markdown",
   "id": "268c5569",
   "metadata": {
    "hidden": true
   },
   "source": [
    "## Plot Map with Delivery Route"
   ]
  },
  {
   "cell_type": "code",
   "execution_count": 93,
   "id": "b39e6995-1ee6-45c8-96ad-494ee147e427",
   "metadata": {},
   "outputs": [],
   "source": [
    "def plotMap(G, T=[], P=[], w=None,\n",
    "            style='r-o', lw=1, ms=3, \n",
    "            styleT='go', msT=3,\n",
    "            styleP='b-o', lwP=2, msP=3,\n",
    "            stylePT='go', msPT=7,\n",
    "            styleW='ro', msW=9,\n",
    "            text=None, grid=False, labels=False, scale=False):\n",
    "\n",
    "    V, E = G\n",
    "\n",
    "    def round_down(x, level): return (x//level)*level\n",
    "    def round_up(x, level): return (x//level+1)*level\n",
    "    \n",
    "    xmin = round_down(min([ x for (x, _) in V ]), 100)\n",
    "    xmax = round_up(max([ x for (x, _) in V ]), 100)\n",
    "    ymin = round_down(min([ y for (_, y) in V ]), 100)\n",
    "    ymax = round_up(max([ y for (_, y) in V ]), 100)\n",
    "    dx = xmax-xmin\n",
    "    dy = ymax-ymin\n",
    "    yoffset = (ymax-ymin)//10\n",
    "    \n",
    "    fig = plt.gcf()\n",
    "    fig.set_size_inches(4, 4)\n",
    "    plt.xlim(xmin, xmax+yoffset)\n",
    "    plt.ylim(ymin-yoffset, ymax)\n",
    "    \n",
    "    if not grid:\n",
    "        plt.axis('off')\n",
    "\n",
    "    for e in E:\n",
    "        p1, p2 = e\n",
    "        plt.plot( [ p1[0], p2[0] ],\n",
    "                  [ p1[1], p2[1] ], \n",
    "                  style, lw=lw, ms=ms)\n",
    "    if scale:\n",
    "        # plot 1000m scale\n",
    "        ybar = ymin-0.9*yoffset\n",
    "        D = [ (xmin, ybar+50), (xmin, ybar), (xmin+1000, ybar), (xmin+1000, ybar+50) ]\n",
    "        plt.plot( [ d[0] for d in D ], [ d[1] for d in D ], 'k-', lw=0.5)\n",
    "        plt.text(xmin+500, ymin-0.7*yoffset, '1000m' , horizontalalignment='center', size=8)\n",
    "    \n",
    "    if labels:\n",
    "        for i in range(len(V)):\n",
    "            x, y = V[i]\n",
    "            plt.text(x+0.0150*dx, y-0.0350*dy, label(i), size=8)\n",
    "        \n",
    "    for t in T:\n",
    "        plt.plot( [ t[0] ], [ t[1] ], \n",
    "                  styleT, ms=msT)\n",
    "        \n",
    "    plt.plot( [ p[0] for p in P ],\n",
    "              [ p[1] for p in P ], \n",
    "              styleP, lw=lwP, ms=msP)\n",
    "    \n",
    "    for p in P:\n",
    "        if p in T:\n",
    "            plt.plot( [ p[0] ], [ p[1] ], \n",
    "                      stylePT, ms=msPT)\n",
    "    if w is not None:\n",
    "        plt.plot( [ w[0] ], [ w[1] ], \n",
    "                      styleW, ms=msW)\n",
    "    if text is not None:\n",
    "        plt.text(xmax, ymin-0.7*yoffset, text, horizontalalignment='right', size=8)\n",
    "    if grid:\n",
    "        plt.grid()\n",
    "    plt.show()"
   ]
  },
  {
   "cell_type": "markdown",
   "id": "0d5c12ac",
   "metadata": {
    "hidden": true
   },
   "source": [
    "## Generate Data"
   ]
  },
  {
   "cell_type": "code",
   "execution_count": 94,
   "id": "6158d92c",
   "metadata": {
    "ExecuteTime": {
     "end_time": "2023-07-04T11:55:30.328123Z",
     "start_time": "2023-07-04T11:55:30.321217Z"
    },
    "hidden": true
   },
   "outputs": [],
   "source": [
    "def generateData(seed=None, nodes=35, customers=100, \n",
    "                 plot=False, log=False):\n",
    "\n",
    "    if seed is None:\n",
    "\n",
    "        print(\"Usage:  M, C = generateData(seed=None, \")\n",
    "        print(\"                            nodes=35, customers=100, \")\n",
    "        print(\"                            plot=False, log=False)\")\n",
    "        print(\"\")\n",
    "        print(\"  seed  the seed value to be used for data generation. \")\n",
    "        print(\"        To test the application use seed=0, it will create\")\n",
    "        print(\"        a small map, with a very few customer locations.\")\n",
    "        print(\"\")\n",
    "        print(\"  nodes the number of intersections (nodes, vertices) in the generated map\")\n",
    "        print(\"\")\n",
    "        print(\"  customers  the number of customers generated on the map\")\n",
    "        print(\"\")\n",
    "        print(\"  log   Controls print output during data generation.\")\n",
    "        print(\"\")\n",
    "        print(\"  plot  Controls graphical output during data generation.\")\n",
    "        print(\"\")\n",
    "        print(\"Returns:\")\n",
    "        print(\"\")\n",
    "        print(\"  M = (V, E) is the generated map given as a graph\")\n",
    "        print(\"    where V is a list of vertices, with each vertice \")\n",
    "        print(\"    given as a pair (x, y) of integer coordinates, \")\n",
    "        print(\"    and E is a list of edges, with each edge given\")\n",
    "        print(\"    as a pair (A, B) of vertices, with each vertex again\")\n",
    "        print(\"    given as a pair (x, y) of integer coordinates\")\n",
    "        print(\"\")\n",
    "        print(\"  C is a list of customer locations\")\n",
    "        print(\"    given as pairs (x, y) of integer coordinates on or near\")\n",
    "        print(\"    existing edges E. To integrate a set of customer locations\")\n",
    "        print(\"    into a given map M = (V, E), use addTarget(M, C)\")\n",
    "        print(\"\")\n",
    "        \n",
    "        seed = 0\n",
    "    \n",
    "    if seed==0:          # generate very simple test data \n",
    "        nodes = 20       # number of points in map\n",
    "        customers = 5    # number of  customers\n",
    "        grid = True\n",
    "        scale = False\n",
    "            \n",
    "    else:\n",
    "        grid = False\n",
    "        scale = True\n",
    "        \n",
    "    random.seed(seed)\n",
    "    \n",
    "    M = generateGraph(nodes, 4500)\n",
    "    \n",
    "    C = generateRandomTargets(M, customers)\n",
    "    \n",
    "    if log:\n",
    "        print(f\"Generated map with {nodes:d} nodes and \" \n",
    "              f\"{customers:d} customer locations\")\n",
    "    if plot:\n",
    "        label=\"\" if seed==0 else f\"seed={seed:4d}\"\n",
    "        plotMap(M, T=C, scale=scale, text=label, grid=grid)\n",
    "    \n",
    "    return M, C"
   ]
  },
  {
   "cell_type": "markdown",
   "id": "5d46ca18",
   "metadata": {
    "hidden": true
   },
   "source": [
    "Data Generation is reproducible"
   ]
  },
  {
   "cell_type": "code",
   "execution_count": 95,
   "id": "0dd70057",
   "metadata": {
    "ExecuteTime": {
     "end_time": "2023-07-04T11:55:30.446019Z",
     "start_time": "2023-07-04T11:55:30.329224Z"
    },
    "hidden": true
   },
   "outputs": [
    {
     "data": {
      "text/plain": [
       "True"
      ]
     },
     "execution_count": 95,
     "metadata": {},
     "output_type": "execute_result"
    }
   ],
   "source": [
    "D1 = generateData(1234)\n",
    "D2 = generateData(1234)\n",
    "D1 == D2"
   ]
  },
  {
   "cell_type": "markdown",
   "id": "55e44e50",
   "metadata": {},
   "source": [
    "# Generating Data"
   ]
  },
  {
   "cell_type": "markdown",
   "id": "eb2a82f1",
   "metadata": {},
   "source": [
    "This section demonstrates how you can generate the test data for the problem."
   ]
  },
  {
   "cell_type": "markdown",
   "id": "c6053dfa",
   "metadata": {},
   "source": [
    "## General Help Message"
   ]
  },
  {
   "cell_type": "markdown",
   "id": "d41f9809",
   "metadata": {},
   "source": [
    "If you use `generateData()` without any parameters you will get a general help message."
   ]
  },
  {
   "cell_type": "code",
   "execution_count": 96,
   "id": "a93a491b",
   "metadata": {
    "ExecuteTime": {
     "end_time": "2023-07-04T11:55:30.451621Z",
     "start_time": "2023-07-04T11:55:30.447303Z"
    }
   },
   "outputs": [
    {
     "name": "stdout",
     "output_type": "stream",
     "text": [
      "Usage:  M, C = generateData(seed=None, \n",
      "                            nodes=35, customers=100, \n",
      "                            plot=False, log=False)\n",
      "\n",
      "  seed  the seed value to be used for data generation. \n",
      "        To test the application use seed=0, it will create\n",
      "        a small map, with a very few customer locations.\n",
      "\n",
      "  nodes the number of intersections (nodes, vertices) in the generated map\n",
      "\n",
      "  customers  the number of customers generated on the map\n",
      "\n",
      "  log   Controls print output during data generation.\n",
      "\n",
      "  plot  Controls graphical output during data generation.\n",
      "\n",
      "Returns:\n",
      "\n",
      "  M = (V, E) is the generated map given as a graph\n",
      "    where V is a list of vertices, with each vertice \n",
      "    given as a pair (x, y) of integer coordinates, \n",
      "    and E is a list of edges, with each edge given\n",
      "    as a pair (A, B) of vertices, with each vertex again\n",
      "    given as a pair (x, y) of integer coordinates\n",
      "\n",
      "  C is a list of customer locations\n",
      "    given as pairs (x, y) of integer coordinates on or near\n",
      "    existing edges E. To integrate a set of customer locations\n",
      "    into a given map M = (V, E), use addTarget(M, C)\n",
      "\n"
     ]
    }
   ],
   "source": [
    "M, C = generateData()"
   ]
  },
  {
   "cell_type": "markdown",
   "id": "1a082b84",
   "metadata": {},
   "source": [
    "## Simple Test Data"
   ]
  },
  {
   "cell_type": "markdown",
   "id": "e62768fa",
   "metadata": {},
   "source": [
    "This section illustrates the data structure generated."
   ]
  },
  {
   "cell_type": "code",
   "execution_count": 110,
   "id": "4e31f76a",
   "metadata": {
    "ExecuteTime": {
     "end_time": "2023-07-04T11:55:30.580237Z",
     "start_time": "2023-07-04T11:55:30.452866Z"
    }
   },
   "outputs": [
    {
     "name": "stdout",
     "output_type": "stream",
     "text": [
      "Generated map with 35 nodes and 100 customer locations\n"
     ]
    },
    {
     "data": {
      "image/png": "[encoded data removed]",
      "text/plain": [
       "<Figure size 400x400 with 1 Axes>"
      ]
     },
     "metadata": {},
     "output_type": "display_data"
    }
   ],
   "source": [
    "simpleData = generateData(seed=6800, log=True, plot=True)"
   ]
  },
  {
   "cell_type": "code",
   "execution_count": 98,
   "id": "267d75d0",
   "metadata": {
    "ExecuteTime": {
     "end_time": "2023-07-04T11:55:30.585775Z",
     "start_time": "2023-07-04T11:55:30.581868Z"
    }
   },
   "outputs": [],
   "source": [
    "import pickle\n",
    "with open('simpleData.pickled', 'wb') as f:\n",
    "    pickle.dump(simpleData, f)"
   ]
  },
  {
   "cell_type": "code",
   "execution_count": 99,
   "id": "ec36f565",
   "metadata": {
    "ExecuteTime": {
     "end_time": "2023-07-04T11:55:30.589162Z",
     "start_time": "2023-07-04T11:55:30.587097Z"
    }
   },
   "outputs": [],
   "source": [
    "M, C = simpleData"
   ]
  },
  {
   "cell_type": "markdown",
   "id": "598c0540",
   "metadata": {},
   "source": [
    "### The Graph"
   ]
  },
  {
   "cell_type": "markdown",
   "id": "6f517000",
   "metadata": {},
   "source": [
    "You can identify the points in the grid above. The vertices of the graph are:"
   ]
  },
  {
   "cell_type": "code",
   "execution_count": 100,
   "id": "1505220e",
   "metadata": {
    "ExecuteTime": {
     "end_time": "2023-07-04T11:55:30.593631Z",
     "start_time": "2023-07-04T11:55:30.590366Z"
    }
   },
   "outputs": [
    {
     "data": {
      "text/plain": [
       "[(260, 3440),\n",
       " (260, 5560),\n",
       " (260, 6620),\n",
       " (1320, 1320),\n",
       " (1320, 2380),\n",
       " (1320, 6620),\n",
       " (1320, 7680),\n",
       " (2380, 260),\n",
       " (2380, 4500),\n",
       " (2380, 5560),\n",
       " (2380, 6620),\n",
       " (3440, 260),\n",
       " (3440, 2380),\n",
       " (3440, 6620),\n",
       " (4500, 260),\n",
       " (4500, 2380),\n",
       " (4500, 4500),\n",
       " (4500, 5560),\n",
       " (4500, 8740),\n",
       " (5560, 260),\n",
       " (5560, 1320),\n",
       " (5560, 2380),\n",
       " (5560, 5560),\n",
       " (6620, 1320),\n",
       " (6620, 2380),\n",
       " (6620, 3440),\n",
       " (6620, 5560),\n",
       " (6620, 6620),\n",
       " (6620, 7680),\n",
       " (6620, 8740),\n",
       " (7680, 1320),\n",
       " (7680, 2380),\n",
       " (7680, 5560),\n",
       " (8740, 2380),\n",
       " (8740, 6620)]"
      ]
     },
     "execution_count": 100,
     "metadata": {},
     "output_type": "execute_result"
    }
   ],
   "source": [
    "V, E = M\n",
    "V"
   ]
  },
  {
   "cell_type": "markdown",
   "id": "e4246e46-1a4b-4ee6-96a7-f69198aa41a9",
   "metadata": {},
   "source": [
    "The edges of the graph are:"
   ]
  },
  {
   "cell_type": "code",
   "execution_count": 101,
   "id": "d39b1069",
   "metadata": {
    "ExecuteTime": {
     "end_time": "2023-07-04T11:55:30.598693Z",
     "start_time": "2023-07-04T11:55:30.594671Z"
    }
   },
   "outputs": [
    {
     "data": {
      "text/plain": [
       "[((260, 5560), (260, 6620)),\n",
       " ((1320, 2380), (260, 3440)),\n",
       " ((1320, 2380), (1320, 1320)),\n",
       " ((1320, 6620), (260, 6620)),\n",
       " ((1320, 6620), (1320, 7680)),\n",
       " ((1320, 6620), (2380, 6620)),\n",
       " ((2380, 260), (1320, 1320)),\n",
       " ((2380, 260), (3440, 260)),\n",
       " ((2380, 4500), (2380, 5560)),\n",
       " ((2380, 5560), (2380, 6620)),\n",
       " ((3440, 260), (4500, 260)),\n",
       " ((3440, 6620), (2380, 6620)),\n",
       " ((4500, 2380), (3440, 2380)),\n",
       " ((4500, 2380), (5560, 2380)),\n",
       " ((4500, 5560), (3440, 6620)),\n",
       " ((4500, 5560), (4500, 4500)),\n",
       " ((4500, 5560), (5560, 5560)),\n",
       " ((5560, 260), (4500, 260)),\n",
       " ((5560, 260), (5560, 1320)),\n",
       " ((5560, 2380), (5560, 1320)),\n",
       " ((5560, 2380), (6620, 2380)),\n",
       " ((6620, 1320), (5560, 1320)),\n",
       " ((6620, 1320), (6620, 2380)),\n",
       " ((6620, 1320), (7680, 1320)),\n",
       " ((6620, 3440), (6620, 2380)),\n",
       " ((6620, 5560), (5560, 5560)),\n",
       " ((6620, 5560), (6620, 6620)),\n",
       " ((6620, 5560), (7680, 5560)),\n",
       " ((6620, 7680), (6620, 6620)),\n",
       " ((6620, 8740), (6620, 7680)),\n",
       " ((7680, 2380), (6620, 2380)),\n",
       " ((7680, 2380), (7680, 1320)),\n",
       " ((8740, 2380), (7680, 2380)),\n",
       " ((8740, 6620), (7680, 5560)),\n",
       " ((260, 3440), (260, 5560)),\n",
       " ((6620, 8740), (4500, 8740))]"
      ]
     },
     "execution_count": 101,
     "metadata": {},
     "output_type": "execute_result"
    }
   ],
   "source": [
    "E"
   ]
  },
  {
   "cell_type": "markdown",
   "id": "a7ff4dc0",
   "metadata": {},
   "source": [
    "### Customer Addresses"
   ]
  },
  {
   "cell_type": "markdown",
   "id": "28e950b3",
   "metadata": {},
   "source": [
    "The customer addresses (green dots in the map) are:"
   ]
  },
  {
   "cell_type": "code",
   "execution_count": 102,
   "id": "e229adea",
   "metadata": {
    "ExecuteTime": {
     "end_time": "2023-07-04T11:55:30.602368Z",
     "start_time": "2023-07-04T11:55:30.599817Z"
    }
   },
   "outputs": [
    {
     "data": {
      "text/plain": [
       "[(260, 4455),\n",
       " (260, 4584),\n",
       " (260, 4756),\n",
       " (260, 4918),\n",
       " (260, 4991),\n",
       " (260, 5135),\n",
       " (260, 5225),\n",
       " (260, 5340),\n",
       " (260, 5437),\n",
       " (260, 6204),\n",
       " (671, 6620),\n",
       " (703, 2996),\n",
       " (1104, 2594),\n",
       " (1320, 1929),\n",
       " (1320, 6796),\n",
       " (1320, 7071),\n",
       " (1320, 7339),\n",
       " (1420, 1218),\n",
       " (1577, 1061),\n",
       " (1677, 960),\n",
       " (1739, 900),\n",
       " (1791, 6620),\n",
       " (1969, 6620),\n",
       " (2106, 6620),\n",
       " (2380, 5026),\n",
       " (2380, 5939),\n",
       " (2380, 6213),\n",
       " (2819, 260),\n",
       " (2879, 6620),\n",
       " (2994, 260),\n",
       " (3068, 6620),\n",
       " (3101, 260),\n",
       " (3248, 260),\n",
       " (3689, 2380),\n",
       " (3841, 2380),\n",
       " (3918, 2380),\n",
       " (4043, 6016),\n",
       " (4138, 260),\n",
       " (4500, 4765),\n",
       " (4500, 4910),\n",
       " (4500, 5107),\n",
       " (4500, 5208),\n",
       " (4500, 5367),\n",
       " (4572, 8740),\n",
       " (4609, 260),\n",
       " (4679, 260),\n",
       " (4732, 8740),\n",
       " (4825, 260),\n",
       " (4908, 8740),\n",
       " (4987, 8740),\n",
       " (5076, 8740),\n",
       " (5082, 5560),\n",
       " (5243, 8740),\n",
       " (5247, 5560),\n",
       " (5416, 5560),\n",
       " (5560, 463),\n",
       " (5560, 604),\n",
       " (5560, 779),\n",
       " (5560, 1479),\n",
       " (5560, 1672),\n",
       " (5560, 1879),\n",
       " (5560, 2022),\n",
       " (5560, 2149),\n",
       " (5756, 2380),\n",
       " (5846, 5560),\n",
       " (5895, 1320),\n",
       " (5906, 2380),\n",
       " (5940, 5560),\n",
       " (6038, 2380),\n",
       " (6126, 5560),\n",
       " (6201, 2380),\n",
       " (6408, 5560),\n",
       " (6424, 2380),\n",
       " (6620, 1802),\n",
       " (6620, 1882),\n",
       " (6620, 2031),\n",
       " (6620, 2144),\n",
       " (6620, 2458),\n",
       " (6620, 2616),\n",
       " (6620, 2787),\n",
       " (6620, 2904),\n",
       " (6620, 3001),\n",
       " (6620, 3289),\n",
       " (6620, 6039),\n",
       " (6620, 6812),\n",
       " (6620, 7155),\n",
       " (6620, 7306),\n",
       " (6620, 7446),\n",
       " (6620, 7535),\n",
       " (6620, 8231),\n",
       " (6864, 1320),\n",
       " (6956, 5560),\n",
       " (7026, 1320),\n",
       " (7296, 1320),\n",
       " (7439, 5560),\n",
       " (7680, 1551),\n",
       " (7680, 2034),\n",
       " (8209, 6089),\n",
       " (8382, 2380),\n",
       " (8525, 6405)]"
      ]
     },
     "execution_count": 102,
     "metadata": {},
     "output_type": "execute_result"
    }
   ],
   "source": [
    "C"
   ]
  },
  {
   "cell_type": "markdown",
   "id": "e32c2004-c3f4-444a-87a7-8c530245597f",
   "metadata": {},
   "source": [
    "### Warehouse Location"
   ]
  },
  {
   "cell_type": "markdown",
   "id": "f02183fc-037c-42e3-9ba6-394786ce6716",
   "metadata": {},
   "source": [
    "The (default) Warehouse should be located near the centre of the map:"
   ]
  },
  {
   "cell_type": "code",
   "execution_count": 103,
   "id": "b5f31a7e-1f32-4f13-b700-7a8fea2c9e17",
   "metadata": {},
   "outputs": [],
   "source": [
    "W = generateWarehouseLocation(M)"
   ]
  },
  {
   "cell_type": "code",
   "execution_count": 104,
   "id": "501b96c9-f3df-4409-a7a5-d34042956c00",
   "metadata": {},
   "outputs": [
    {
     "data": {
      "image/png": "[encoded data removed]",
      "text/plain": [
       "<Figure size 400x400 with 1 Axes>"
      ]
     },
     "metadata": {},
     "output_type": "display_data"
    }
   ],
   "source": [
    "plotMap((V, E), T=C, w=W)"
   ]
  },
  {
   "cell_type": "markdown",
   "id": "976ca9d4",
   "metadata": {},
   "source": [
    "## Real Sample Data"
   ]
  },
  {
   "cell_type": "markdown",
   "id": "f7f8d163",
   "metadata": {},
   "source": [
    "This section shows sample data as you you may generate them for your required simulation. "
   ]
  },
  {
   "cell_type": "code",
   "execution_count": 105,
   "id": "e491ef3a",
   "metadata": {
    "ExecuteTime": {
     "end_time": "2023-07-04T11:55:30.936103Z",
     "start_time": "2023-07-04T11:55:30.603565Z"
    }
   },
   "outputs": [
    {
     "name": "stdout",
     "output_type": "stream",
     "text": [
      "Generated map with 35 nodes and 100 customer locations\n"
     ]
    },
    {
     "data": {
      "image/png": "[encoded data removed]",
      "text/plain": [
       "<Figure size 400x400 with 1 Axes>"
      ]
     },
     "metadata": {},
     "output_type": "display_data"
    }
   ],
   "source": [
    "data = generateData(6800, plot=True, log=True)"
   ]
  },
  {
   "cell_type": "markdown",
   "id": "b7bdb541",
   "metadata": {},
   "source": [
    "Save sample data as pickle file:"
   ]
  },
  {
   "cell_type": "code",
   "execution_count": 106,
   "id": "cc4156ed",
   "metadata": {
    "ExecuteTime": {
     "end_time": "2023-07-04T11:55:30.940374Z",
     "start_time": "2023-07-04T11:55:30.937437Z"
    }
   },
   "outputs": [],
   "source": [
    "import pickle\n",
    "with open('data.pickled', 'wb') as f:\n",
    "    pickle.dump(data, f)"
   ]
  },
  {
   "cell_type": "markdown",
   "id": "0e2c86a8-db41-4978-b5c1-9f3ce39426b8",
   "metadata": {},
   "source": [
    "## Test Data"
   ]
  },
  {
   "cell_type": "markdown",
   "id": "c34a1305-6a76-4a3e-891e-9704b6fd712b",
   "metadata": {},
   "source": [
    "During development of your simulation study it may be handy to uses simple test data, as this saves some compute time."
   ]
  },
  {
   "cell_type": "code",
   "execution_count": 107,
   "id": "c5c1d7eb",
   "metadata": {
    "ExecuteTime": {
     "end_time": "2023-07-04T12:55:17.629724Z",
     "start_time": "2023-07-04T12:55:17.416826Z"
    }
   },
   "outputs": [
    {
     "name": "stdout",
     "output_type": "stream",
     "text": [
      "Generated map with 30 nodes and 20 customer locations\n"
     ]
    },
    {
     "data": {
      "image/png": "[encoded data removed]",
      "text/plain": [
       "<Figure size 400x400 with 1 Axes>"
      ]
     },
     "metadata": {},
     "output_type": "display_data"
    }
   ],
   "source": [
    "testData = generateData(6800, nodes=30, customers=20, plot=True, log=True)"
   ]
  },
  {
   "cell_type": "code",
   "execution_count": 108,
   "id": "3b7da9c5",
   "metadata": {
    "ExecuteTime": {
     "end_time": "2023-07-04T11:55:31.185816Z",
     "start_time": "2023-07-04T11:55:31.182490Z"
    }
   },
   "outputs": [],
   "source": [
    "import pickle\n",
    "with open('testData.pickled', 'wb') as f:\n",
    "    pickle.dump(testData, f)"
   ]
  },
  {
   "cell_type": "markdown",
   "id": "74d53027-4ab1-43ef-ab9e-68f5b11ff9ea",
   "metadata": {},
   "source": [
    "**Note:** This notebook generates datafiles:  `simpleData.pickled`, `data.pickled`, and `testData.pickled`.\n",
    "If you have changed parameters resulting in different data files, copy the newly generated data files over into\n",
    "the other subdirectories of this project. The downloadable version contains copies of the original data files."
   ]
  }
 ],
 "metadata": {
  "kernelspec": {
   "display_name": "Python 3 (ipykernel)",
   "language": "python",
   "name": "python3"
  },
  "language_info": {
   "codemirror_mode": {
    "name": "ipython",
    "version": 3
   },
   "file_extension": ".py",
   "mimetype": "text/x-python",
   "name": "python",
   "nbconvert_exporter": "python",
   "pygments_lexer": "ipython3",
   "version": "3.12.1"
  },
  "toc": {
   "base_numbering": 1,
   "nav_menu": {
    "height": "437px",
    "width": "249px"
   },
   "number_sections": true,
   "sideBar": true,
   "skip_h1_title": false,
   "title_cell": "Table of Contents",
   "title_sidebar": "Contents",
   "toc_cell": true,
   "toc_position": {},
   "toc_section_display": true,
   "toc_window_display": false
  }
 },
 "nbformat": 4,
 "nbformat_minor": 5
}
